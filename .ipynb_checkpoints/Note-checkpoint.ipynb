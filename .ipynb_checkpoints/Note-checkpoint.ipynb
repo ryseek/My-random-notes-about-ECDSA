{
 "cells": [
  {
   "cell_type": "code",
   "execution_count": 1,
   "metadata": {
    "collapsed": true
   },
   "outputs": [],
   "source": [
    "import hashlib\n",
    "from pycoin import ecdsa, encoding\n",
    "import os\n",
    "import codecs\n",
    "#import ecdsa\n",
    "from datetime import datetime\n",
    "from bitcoin import *\n",
    "import random\n",
    "import string\n",
    "import subprocess"
   ]
  },
  {
   "cell_type": "code",
   "execution_count": 2,
   "metadata": {},
   "outputs": [
    {
     "name": "stdout",
     "output_type": "stream",
     "text": [
      "priv:18E14A7B6A307F426A94F8114701E7C8E774E7F9A47E2C2035DB29A206321725\n",
      "secret_exponent:11253563012059685825953619222107823549092147699031672238385790369351542642469\n",
      "wif:5J1F7GHadZG3sCCKHCwg8Jvys9xUbFsjLnGec4H125Ny1V9nR6V\n",
      "pub:0450863ad64a87ae8a2fe83c1af1a8403cb53f53e486d8511dad8a04887e5b23522cd470243453a299fa9e77237716103abc11a1df38855ed6f2ee187e9c582ba6\n",
      "addr:16UwLL9Risc3QfPqBUvKofHmBQ7wMtjvM\n"
     ]
    }
   ],
   "source": [
    "priv = \"18E14A7B6A307F426A94F8114701E7C8E774E7F9A47E2C2035DB29A206321725\"\n",
    "secret_exponent= int('0x'+priv, 0)\n",
    "wif = encode_privkey(priv, 'wif')\n",
    "pub = privtopub(wif)\n",
    "addr = pubtoaddr(pub)\n",
    "\n",
    "print(\"priv:{}\".format(priv))\n",
    "print ('secret_exponent:{}'.format(secret_exponent))\n",
    "print(\"wif:{}\".format(wif))\n",
    "print(\"pub:{}\".format(pub))\n",
    "print(\"addr:{}\".format(addr))"
   ]
  },
  {
   "cell_type": "code",
   "execution_count": 3,
   "metadata": {},
   "outputs": [
    {
     "name": "stdout",
     "output_type": "stream",
     "text": [
      "priv:B18427B169E86DE681A1A62588E1D02AE4A7E83C1B413849989A76282A7B562F\n",
      "secret_exponent:80292871962960388883916236853462235867240466961434727693140363052284989101615\n",
      "wif:5KATzggDs9uHRRKLUMfG8jXr7F4fiBhznr3RfdRcMcdRwbrgsQh\n",
      "pub:049c95e0949e397faccecf0fe8ead247e6fd082717e4a4a876049fb34a9aded110dfea2ef691cc4a1410498f4c312f3a94318cd5b6f0e8e92051064876751c8404\n",
      "addr:12gFLYWpfnDTQ3JB5w5VDPpF5JQZnA1g1c\n"
     ]
    }
   ],
   "source": [
    "priv = \"B18427B169E86DE681A1A62588E1D02AE4A7E83C1B413849989A76282A7B562F\"\n",
    "secret_exponent= int('0x'+priv, 0)\n",
    "wif = encode_privkey(priv, 'wif')\n",
    "pub = privtopub(wif)\n",
    "addr = pubtoaddr(pub)\n",
    "\n",
    "print(\"priv:{}\".format(priv))\n",
    "print ('secret_exponent:{}'.format(secret_exponent))\n",
    "print(\"wif:{}\".format(wif))\n",
    "print(\"pub:{}\".format(pub))\n",
    "print(\"addr:{}\".format(addr))"
   ]
  },
  {
   "cell_type": "code",
   "execution_count": 4,
   "metadata": {},
   "outputs": [
    {
     "name": "stdout",
     "output_type": "stream",
     "text": [
      "pub:0436970ce32e14dc06ac50217cdcf53e628b32810707080d6848d9c8d4be9fe461e100e705cca9854436a1283210ccefbb6b16cb9a86b009488922a8f302a27487\n",
      "addr:166ev9JXn2rFqiPSQAwM7qJYpNL1JrNf3h\n"
     ]
    }
   ],
   "source": [
    "from pycoin.ecdsa import ellipticcurve \n",
    "\n",
    "_a = 0x0000000000000000000000000000000000000000000000000000000000000000\n",
    "_b = 0x0000000000000000000000000000000000000000000000000000000000000007\n",
    "_p = 0xfffffffffffffffffffffffffffffffffffffffffffffffffffffffefffffc2f\n",
    "curveSECP256k1 = ellipticcurve.CurveFp(_p,_a,_b)\n",
    "\n",
    "pub1 = \"0450863ad64a87ae8a2fe83c1af1a8403cb53f53e486d8511dad8a04887e5b23522cd470243453a299fa9e77237716103abc11a1df38855ed6f2ee187e9c582ba6\"\n",
    "pub2 = \"049c95e0949e397faccecf0fe8ead247e6fd082717e4a4a876049fb34a9aded110dfea2ef691cc4a1410498f4c312f3a94318cd5b6f0e8e92051064876751c8404\"\n",
    "\n",
    "#04 is prefix, meaning the public key is uncompressed and contains X and Y coordinate of EC: 64 + 64 + 2 = 130\n",
    "pub1 = pub1[2:130]\n",
    "pub2 = pub2[2:130]\n",
    "\n",
    "X1,Y1 = pub1[0:64], pub1[64:128]\n",
    "X2,Y2 = pub2[0:64], pub2[64:128]\n",
    "\n",
    "# Generating points on SECP256k1 curve\n",
    "Point1 = ellipticcurve.Point(curveSECP256k1, int(X1,16) , int(Y1,16), None)\n",
    "Point2 = ellipticcurve.Point(curveSECP256k1, int(X2,16) , int(Y2,16), None)\n",
    "\n",
    "# adding Points one to another \n",
    "Point3 = Point1.__add__(Point2)\n",
    "\n",
    "X = Point3.x()\n",
    "Y = Point3.y()\n",
    "\n",
    "X_hex = str(hex(X))\n",
    "Y_hex = str(hex(Y))\n",
    "\n",
    "# the hex() of X is 0xed1c1b6ae8c12e36feb74c03dc7a8823b2477afc6b7cf993b229b7d31939f462L (for example), \n",
    "# \"0x\" and \"L\" at the end must be cutted\n",
    "X_hex = X_hex[2:len(X_hex)-1]\n",
    "Y_hex = Y_hex[2:len(Y_hex)-1]\n",
    "\n",
    "pub = \"04\" + X_hex + Y_hex\n",
    "\n",
    "addr = pubtoaddr(pub)\n",
    "\n",
    "print(\"pub:{}\".format(pub))\n",
    "print(\"addr:{}\".format(addr))"
   ]
  },
  {
   "cell_type": "code",
   "execution_count": 5,
   "metadata": {},
   "outputs": [
    {
     "name": "stdout",
     "output_type": "stream",
     "text": [
      "priv:ca65722cd418ed28ec369e36cfe3b7f3cc1cd035bfbf6469ce759fca30ad6d54\n",
      "pub:0436970ce32e14dc06ac50217cdcf53e628b32810707080d6848d9c8d4be9fe461e100e705cca9854436a1283210ccefbb6b16cb9a86b009488922a8f302a27487\n",
      "addr:166ev9JXn2rFqiPSQAwM7qJYpNL1JrNf3h\n"
     ]
    }
   ],
   "source": [
    "priv1 = \"18E14A7B6A307F426A94F8114701E7C8E774E7F9A47E2C2035DB29A206321725\"\n",
    "priv2 = \"B18427B169E86DE681A1A62588E1D02AE4A7E83C1B413849989A76282A7B562F\"\n",
    "\n",
    "priv1 = int(\"0x\" + priv1, 16)\n",
    "priv2 = int(\"0x\" + priv2, 16)\n",
    "\n",
    "priv = priv1 + priv2\n",
    "priv = hex(priv1 + priv2)\n",
    "priv = priv[2:len(priv)-1]\n",
    "\n",
    "pub = privtopub(priv)\n",
    "addr = pubtoaddr(pub)\n",
    "\n",
    "print(\"priv:{}\".format(priv))\n",
    "print(\"pub:{}\".format(pub))\n",
    "print(\"addr:{}\".format(addr))"
   ]
  },
  {
   "cell_type": "code",
   "execution_count": null,
   "metadata": {
    "collapsed": true
   },
   "outputs": [],
   "source": []
  }
 ],
 "metadata": {
  "kernelspec": {
   "display_name": "Python 2",
   "language": "python",
   "name": "python2"
  },
  "language_info": {
   "codemirror_mode": {
    "name": "ipython",
    "version": 2
   },
   "file_extension": ".py",
   "mimetype": "text/x-python",
   "name": "python",
   "nbconvert_exporter": "python",
   "pygments_lexer": "ipython2",
   "version": "2.7.13"
  }
 },
 "nbformat": 4,
 "nbformat_minor": 2
}
